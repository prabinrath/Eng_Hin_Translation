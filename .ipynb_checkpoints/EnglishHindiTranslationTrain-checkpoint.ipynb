{
 "cells": [
  {
   "cell_type": "code",
   "execution_count": 1,
   "id": "M4sUlhEW1F6r",
   "metadata": {
    "colab": {
     "base_uri": "https://localhost:8080/"
    },
    "id": "M4sUlhEW1F6r",
    "outputId": "e3914ca8-39cc-431d-9f9c-bd5e82261a12"
   },
   "outputs": [
    {
     "name": "stdout",
     "output_type": "stream",
     "text": [
      "cuda\n"
     ]
    }
   ],
   "source": [
    "# from google.colab import drive\n",
    "# drive.mount('/content/drive')\n",
    "import torch\n",
    "device = torch.device('cuda' if torch.cuda.is_available() else 'cpu')\n",
    "print(device)"
   ]
  },
  {
   "cell_type": "code",
   "execution_count": 2,
   "id": "54b2d53e",
   "metadata": {
    "colab": {
     "base_uri": "https://localhost:8080/"
    },
    "id": "54b2d53e",
    "outputId": "d4495bec-fc8c-4e27-a709-2d35cfb53a00"
   },
   "outputs": [
    {
     "name": "stdout",
     "output_type": "stream",
     "text": [
      "Total Training Data:  1659083\n",
      "Total Testing Data:  2507\n",
      "Total Validation Data:  520\n"
     ]
    }
   ],
   "source": [
    "path = '/home/prabin/Documents/Eng_Hin_Translation/english-hindi-dataset/'\n",
    "train_set = 'train'\n",
    "test_set = 'test'\n",
    "valid_set = 'valid'\n",
    "\n",
    "source = open(path+'source_' + train_set + '.txt', encoding='utf8')\n",
    "target = open(path+'target_' + train_set + '.txt', encoding='utf8')\n",
    "pairs_train = []\n",
    "for src, tar in zip(source.readlines(), target.readlines()):\n",
    "    pairs_train.append((src, tar))\n",
    "\n",
    "source = open(path+'source_' + test_set + '.txt', encoding='utf8')\n",
    "target = open(path+'target_' + test_set + '.txt', encoding='utf8')\n",
    "pairs_test = []\n",
    "for src, tar in zip(source.readlines(), target.readlines()):\n",
    "    pairs_test.append((src, tar))\n",
    "\n",
    "source = open(path+'source_' + valid_set + '.txt', encoding='utf8')\n",
    "target = open(path+'target_' + valid_set + '.txt', encoding='utf8')\n",
    "pairs_valid = []\n",
    "for src, tar in zip(source.readlines(), target.readlines()):\n",
    "    pairs_valid.append((src, tar))\n",
    "\n",
    "print('Total Training Data: ', len(pairs_train))\n",
    "print('Total Testing Data: ', len(pairs_test))\n",
    "print('Total Validation Data: ', len(pairs_valid))"
   ]
  },
  {
   "cell_type": "code",
   "execution_count": 3,
   "id": "58b9ca88",
   "metadata": {
    "id": "58b9ca88"
   },
   "outputs": [],
   "source": [
    "import re\n",
    "import string\n",
    "\n",
    "def clean_sentence(text):\n",
    "    text = ''.join(ch for ch in text if ch not in string.punctuation)\n",
    "    text = text.lower()\n",
    "    text = re.sub(r'\\d','',text)\n",
    "    text = re.sub(r'\\s+',' ',text)  #Remove extra spaces\n",
    "    text = re.sub(r'([!.?,।])', r' \\1', text)\n",
    "    text = re.sub(r'\\n', r'', text)\n",
    "    text = text.strip()\n",
    "    return text"
   ]
  },
  {
   "cell_type": "code",
   "execution_count": 4,
   "id": "FQjizASC8pXD",
   "metadata": {
    "colab": {
     "base_uri": "https://localhost:8080/"
    },
    "id": "FQjizASC8pXD",
    "outputId": "33d4b208-d5a4-4870-906b-155c986e109d"
   },
   "outputs": [
    {
     "name": "stdout",
     "output_type": "stream",
     "text": [
      "45092 45092\n",
      "4908 4908\n"
     ]
    }
   ],
   "source": [
    "import random\n",
    "MAX_SAMPLES = 50000\n",
    "MAX_LEN = 5\n",
    "test_train_split = 0.9\n",
    "\n",
    "en_data = []\n",
    "hi_data = []\n",
    "en_data_test = []\n",
    "hi_data_test = []\n",
    "\n",
    "cnt = 0\n",
    "\n",
    "for (en,hi) in pairs_train:\n",
    "    l = min(len(en.split()), len(hi.split()))\n",
    "    if l <= MAX_LEN:\n",
    "        if random.random() < test_train_split:\n",
    "            en_data.append(clean_sentence(en))\n",
    "            hi_data.append(clean_sentence(hi))\n",
    "        else:\n",
    "            en_data_test.append(clean_sentence(en))\n",
    "            hi_data_test.append(clean_sentence(hi))\n",
    "        cnt += 1\n",
    "    if cnt == MAX_SAMPLES:\n",
    "        break\n",
    "\n",
    "hi_data = [re.sub(r'[a-zA-Z]','',hi) for hi in hi_data]\n",
    "print(len(en_data), len(hi_data))\n",
    "\n",
    "hi_data_test = [re.sub(r'[a-zA-Z]','',hi) for hi in hi_data_test]\n",
    "print(len(en_data_test), len(hi_data_test))"
   ]
  },
  {
   "cell_type": "code",
   "execution_count": 5,
   "id": "-Y8sWmwJCXlK",
   "metadata": {
    "id": "-Y8sWmwJCXlK"
   },
   "outputs": [],
   "source": [
    "with open(path+'train.en', 'w') as file:\n",
    "    for en in en_data:\n",
    "        file.write(en + '\\n')\n",
    "with open(path+'train.hi', 'w') as file:\n",
    "    for hi in hi_data:\n",
    "        file.write(hi + '\\n')"
   ]
  },
  {
   "cell_type": "code",
   "execution_count": 6,
   "id": "vI50uFUBf08K",
   "metadata": {
    "id": "vI50uFUBf08K"
   },
   "outputs": [],
   "source": [
    "#!pip install inltk\n",
    "# from inltk.inltk import setup\n",
    "# setup('hi')\n",
    "# from inltk.inltk import tokenize as hi_tokenizer"
   ]
  },
  {
   "cell_type": "code",
   "execution_count": 7,
   "id": "1RM1VME39gIj",
   "metadata": {
    "id": "1RM1VME39gIj"
   },
   "outputs": [],
   "source": [
    "from collections import Counter\n",
    "from torchtext.vocab import vocab\n",
    "import io\n",
    "from torchtext.data.utils import get_tokenizer\n",
    "en_tokenizer = get_tokenizer('spacy', language='en_core_web_sm')\n",
    "\n",
    "unk_token = '<unk>'\n",
    "start_token = '<sos>'\n",
    "end_token = '<eos>'\n",
    "default_index = 0\n",
    "\n",
    "counter = Counter()\n",
    "with io.open(path+'train.en', encoding=\"utf8\") as f:\n",
    "    for string_ in f.readlines():\n",
    "        counter.update(en_tokenizer(string_))\n",
    "en_vocab = vocab(counter, specials=[unk_token, start_token, end_token])\n",
    "en_vocab.set_default_index(default_index)\n",
    "\n",
    "counter = Counter()\n",
    "with io.open(path+'train.hi', encoding=\"utf8\") as f:\n",
    "    for string_ in f.readlines():\n",
    "        # counter.update(hi_tokenizer(string_, 'hi'))\n",
    "        counter.update(string_.split())\n",
    "hi_vocab = vocab(counter, specials=[unk_token, start_token, end_token])\n",
    "hi_vocab.set_default_index(default_index)"
   ]
  },
  {
   "cell_type": "code",
   "execution_count": 8,
   "id": "TGIH-23Ysc1b",
   "metadata": {
    "colab": {
     "base_uri": "https://localhost:8080/"
    },
    "id": "TGIH-23Ysc1b",
    "outputId": "539d0872-7a83-41c0-bae7-0c9491c04a1f"
   },
   "outputs": [
    {
     "name": "stdout",
     "output_type": "stream",
     "text": [
      "['<unk>', '<sos>', '<eos>', 'accerciser', 'accessibility', 'explorer', '\\n', 'highlight', 'duration', 'border']\n",
      "['<unk>', '<sos>', '<eos>', 'एक्सेर्साइसर', 'पहुंचनीयता', 'अन्वेषक', 'अवधि', 'को', 'हाइलाइट', 'रकें']\n",
      "1307\n",
      "7\n",
      "3136\n",
      "3423\n"
     ]
    }
   ],
   "source": [
    "print(en_vocab.get_itos()[0:10])\n",
    "print(hi_vocab.get_itos()[0:10])\n",
    "print(en_vocab['your'])\n",
    "print(hi_vocab['को'])\n",
    "print(len(en_vocab))\n",
    "print(len(hi_vocab))"
   ]
  },
  {
   "cell_type": "code",
   "execution_count": 9,
   "id": "FdwZTM21fmwQ",
   "metadata": {
    "colab": {
     "base_uri": "https://localhost:8080/"
    },
    "id": "FdwZTM21fmwQ",
    "outputId": "e8ee00e5-fde6-4ed6-f2c1-e4b1084c3948"
   },
   "outputs": [
    {
     "name": "stdout",
     "output_type": "stream",
     "text": [
      "('accerciser accessibility explorer', 'एक्सेर्साइसर पहुंचनीयता अन्वेषक')\n",
      "(tensor([3, 4, 5, 2], device='cuda:0'), tensor([3, 4, 5, 2], device='cuda:0'))\n",
      "('highlight duration', 'अवधि को हाइलाइट रकें')\n",
      "(tensor([7, 8, 2], device='cuda:0'), tensor([6, 7, 8, 9, 2], device='cuda:0'))\n"
     ]
    }
   ],
   "source": [
    "def sentence2tensor_pair(sentence_pair):\n",
    "    source_tensor = [en_vocab[x] for x in en_tokenizer(sentence_pair[0])]\n",
    "    source_tensor.append(en_vocab[end_token])\n",
    "    source_tensor = torch.tensor(source_tensor, device=torch.device('cuda'))\n",
    "    target_tensor = [hi_vocab[x] for x in sentence_pair[1].split(' ')]\n",
    "    target_tensor.append(hi_vocab[end_token])\n",
    "    target_tensor = torch.tensor(target_tensor, device=torch.device('cuda'))\n",
    "    return source_tensor, target_tensor\n",
    "\n",
    "for pair in zip(en_data[0:2], hi_data[0:2]):\n",
    "    print(pair)\n",
    "    print(sentence2tensor_pair(pair))"
   ]
  },
  {
   "cell_type": "code",
   "execution_count": 10,
   "id": "f41eaa30",
   "metadata": {
    "id": "f41eaa30"
   },
   "outputs": [],
   "source": [
    "import torch.nn as nn\n",
    "import torch\n",
    "\n",
    "class EncoderRNN(nn.Module):\n",
    "    def __init__(self, vocab_dim, embedding_dim, hidden_dim):\n",
    "        super().__init__();\n",
    "        self.hidden_size = hidden_dim\n",
    "        self.embedding = nn.Embedding(vocab_dim, embedding_dim)\n",
    "        self.rnn = nn.GRU(embedding_dim, hidden_dim)\n",
    "    \n",
    "    def forward(self, line, hidden):\n",
    "        embedded = self.embedding(line)\n",
    "        output, hidden = self.rnn(embedded, hidden)\n",
    "        return output, hidden\n",
    "    \n",
    "    def init_hidden(self):\n",
    "        return torch.zeros(1, 1, self.hidden_size, device=torch.device('cuda'))\n",
    "    \n",
    "class DecoderRNN(nn.Module):\n",
    "    def __init__(self, vocab_dim, embedding_dim, hidden_dim):\n",
    "        super().__init__();\n",
    "        self.hidden_size = hidden_dim\n",
    "        self.embedding = nn.Embedding(vocab_dim, embedding_dim)\n",
    "        self.relu = nn.ReLU()\n",
    "        self.rnn = nn.GRU(embedding_dim, hidden_dim)\n",
    "        self.linear = nn.Linear(hidden_dim, vocab_dim)\n",
    "        self.softmax = nn.LogSoftmax(dim=1)        \n",
    "    \n",
    "    # Need to process word by word to implement teacher forcing\n",
    "    def forward(self, word, hidden):\n",
    "        embedded = self.embedding(word)\n",
    "        activated = self.relu(embedded)\n",
    "        output, hidden = self.rnn(activated, hidden)\n",
    "        output = self.softmax(self.linear(output[0]))\n",
    "        return output, hidden"
   ]
  },
  {
   "cell_type": "code",
   "execution_count": 11,
   "id": "77fd846d",
   "metadata": {
    "id": "77fd846d"
   },
   "outputs": [],
   "source": [
    "import torch.optim as optim\n",
    "\n",
    "encoder = EncoderRNN(vocab_dim = len(en_vocab),\n",
    "                     embedding_dim = 100,\n",
    "                     hidden_dim = 100).to(device)\n",
    "decoder = DecoderRNN(vocab_dim = len(hi_vocab),\n",
    "                     embedding_dim = 100,\n",
    "                     hidden_dim = 100).to(device)\n",
    "\n",
    "encoder_optimizer = optim.SGD(encoder.parameters(), lr=0.01);\n",
    "decoder_optimizer = optim.SGD(decoder.parameters(), lr=0.01);\n",
    "lossfn = nn.NLLLoss();"
   ]
  },
  {
   "cell_type": "code",
   "execution_count": 12,
   "id": "bb6c3d89",
   "metadata": {
    "colab": {
     "base_uri": "https://localhost:8080/"
    },
    "id": "bb6c3d89",
    "outputId": "57160279-a5c4-4afd-9373-c39ed8f03da9"
   },
   "outputs": [
    {
     "name": "stdout",
     "output_type": "stream",
     "text": [
      "torch.Size([4, 1])\n",
      "torch.Size([1, 1, 100])\n",
      "torch.Size([4, 1, 100])\n"
     ]
    }
   ],
   "source": [
    "tensor_pair = sentence2tensor_pair((en_data[0], hi_data[0]))\n",
    "\n",
    "input_ = tensor_pair[0].unsqueeze(1)\n",
    "print(input_.shape)\n",
    "\n",
    "hidden = encoder.init_hidden()\n",
    "output, hidden = encoder(input_, hidden)\n",
    "print(hidden.shape)\n",
    "print(output.shape)"
   ]
  },
  {
   "cell_type": "code",
   "execution_count": 13,
   "id": "cce3d82a",
   "metadata": {
    "id": "cce3d82a"
   },
   "outputs": [],
   "source": [
    "teacher_forcing_ratio = 0.5\n",
    "\n",
    "def train(tensor_pair):\n",
    "    use_teacher_forcing = True if random.random() < teacher_forcing_ratio else False\n",
    "    \n",
    "    encoder.train()\n",
    "    decoder.train()\n",
    "    \n",
    "    encoder_optimizer.zero_grad()\n",
    "    decoder_optimizer.zero_grad()    \n",
    "    \n",
    "    encoder_hidden = encoder.init_hidden()\n",
    "    encoder_input = tensor_pair[0].unsqueeze(1)\n",
    "    _, encoder_hidden = encoder(encoder_input, encoder_hidden)\n",
    "    \n",
    "    decoder_hidden = encoder_hidden\n",
    "    decoder_input = torch.tensor([hi_vocab[start_token]], device=torch.device('cuda')).unsqueeze(1)\n",
    "    \n",
    "    loss = 0\n",
    "    for target_word in tensor_pair[1].unsqueeze(1):        \n",
    "        decoder_output, decoder_hidden = decoder(decoder_input, decoder_hidden)\n",
    "        loss += lossfn(decoder_output, target_word)\n",
    "        _, pred_word = decoder_output.topk(1)\n",
    "        \n",
    "        if pred_word[0][0].item() == hi_vocab[end_token]:\n",
    "            break\n",
    "            \n",
    "        if use_teacher_forcing:\n",
    "            decoder_input = target_word.unsqueeze(1)\n",
    "        else:\n",
    "            decoder_input = pred_word\n",
    "    \n",
    "    loss.backward()\n",
    "    \n",
    "    encoder_optimizer.step()\n",
    "    decoder_optimizer.step()  \n",
    "\n",
    "    return loss.item()\n",
    "\n",
    "def test(tensor_pair):\n",
    "    encoder.eval()\n",
    "    decoder.eval()\n",
    "    \n",
    "    encoder_hidden = encoder.init_hidden()\n",
    "    encoder_input = tensor_pair[0].unsqueeze(1)\n",
    "    _, encoder_hidden = encoder(encoder_input, encoder_hidden)\n",
    "    \n",
    "    decoder_hidden = encoder_hidden\n",
    "    decoder_input = torch.tensor([hi_vocab[start_token]], device=torch.device('cuda')).unsqueeze(1)\n",
    "    \n",
    "    loss = 0\n",
    "    translation = []\n",
    "    for target_word in tensor_pair[1].unsqueeze(1):   \n",
    "        decoder_output, decoder_hidden = decoder(decoder_input, decoder_hidden)\n",
    "        loss += lossfn(decoder_output, target_word)\n",
    "        _, pred_word = decoder_output.topk(1)\n",
    "        \n",
    "        translation.append(pred_word[0][0].item())\n",
    "        if pred_word[0][0].item() == hi_vocab[end_token]:\n",
    "            break\n",
    "        decoder_input = pred_word\n",
    "    \n",
    "    return translation, loss.item()"
   ]
  },
  {
   "cell_type": "code",
   "execution_count": 14,
   "id": "0359e65c",
   "metadata": {
    "colab": {
     "base_uri": "https://localhost:8080/"
    },
    "id": "0359e65c",
    "outputId": "ecc18073-65dd-43eb-8be3-cbc5ef13dba0"
   },
   "outputs": [
    {
     "name": "stdout",
     "output_type": "stream",
     "text": [
      "tensor([[1]], device='cuda:0')\n",
      "torch.Size([1, 1, 100])\n",
      "torch.Size([1, 3423])\n"
     ]
    }
   ],
   "source": [
    "input_ = torch.tensor([hi_vocab[start_token]], device=torch.device('cuda')).unsqueeze(1)\n",
    "print(input_)\n",
    "output, hidden = decoder(input_, hidden)\n",
    "print(hidden.shape)\n",
    "print(output.shape)"
   ]
  },
  {
   "cell_type": "code",
   "execution_count": 15,
   "id": "88dd9e95",
   "metadata": {
    "id": "88dd9e95"
   },
   "outputs": [
    {
     "name": "stderr",
     "output_type": "stream",
     "text": [
      "100%|████████████████████████████████████| 45092/45092 [03:05<00:00, 243.59it/s]\n"
     ]
    },
    {
     "name": "stdout",
     "output_type": "stream",
     "text": [
      "Epoch:  1 / 25 | Train Loss:  10.964694951660352 | Validation Loss:  13.583728383740786\n"
     ]
    },
    {
     "name": "stderr",
     "output_type": "stream",
     "text": [
      "100%|████████████████████████████████████| 45092/45092 [01:59<00:00, 376.20it/s]\n"
     ]
    },
    {
     "name": "stdout",
     "output_type": "stream",
     "text": [
      "Epoch:  2 / 25 | Train Loss:  6.905648218298842 | Validation Loss:  10.855751761172298\n"
     ]
    },
    {
     "name": "stderr",
     "output_type": "stream",
     "text": [
      "100%|████████████████████████████████████| 45092/45092 [02:02<00:00, 367.04it/s]\n"
     ]
    },
    {
     "name": "stdout",
     "output_type": "stream",
     "text": [
      "Epoch:  3 / 25 | Train Loss:  4.655338816653709 | Validation Loss:  9.605548488402764\n"
     ]
    },
    {
     "name": "stderr",
     "output_type": "stream",
     "text": [
      "100%|████████████████████████████████████| 45092/45092 [02:03<00:00, 365.89it/s]\n"
     ]
    },
    {
     "name": "stdout",
     "output_type": "stream",
     "text": [
      "Epoch:  4 / 25 | Train Loss:  3.4311310351527426 | Validation Loss:  8.891443034136074\n"
     ]
    },
    {
     "name": "stderr",
     "output_type": "stream",
     "text": [
      "100%|████████████████████████████████████| 45092/45092 [02:04<00:00, 362.61it/s]\n"
     ]
    },
    {
     "name": "stdout",
     "output_type": "stream",
     "text": [
      "Epoch:  5 / 25 | Train Loss:  2.757181364287485 | Validation Loss:  8.107780275322929\n"
     ]
    },
    {
     "name": "stderr",
     "output_type": "stream",
     "text": [
      "100%|████████████████████████████████████| 45092/45092 [02:05<00:00, 359.73it/s]\n"
     ]
    },
    {
     "name": "stdout",
     "output_type": "stream",
     "text": [
      "Epoch:  6 / 25 | Train Loss:  2.315681205944504 | Validation Loss:  7.665555187856995\n"
     ]
    },
    {
     "name": "stderr",
     "output_type": "stream",
     "text": [
      "100%|████████████████████████████████████| 45092/45092 [02:05<00:00, 359.68it/s]\n"
     ]
    },
    {
     "name": "stdout",
     "output_type": "stream",
     "text": [
      "Epoch:  7 / 25 | Train Loss:  2.0256928854794864 | Validation Loss:  7.444542149863621\n"
     ]
    },
    {
     "name": "stderr",
     "output_type": "stream",
     "text": [
      "100%|████████████████████████████████████| 45092/45092 [02:07<00:00, 353.89it/s]\n"
     ]
    },
    {
     "name": "stdout",
     "output_type": "stream",
     "text": [
      "Epoch:  8 / 25 | Train Loss:  1.8298882670846093 | Validation Loss:  7.031289918177033\n"
     ]
    },
    {
     "name": "stderr",
     "output_type": "stream",
     "text": [
      "100%|████████████████████████████████████| 45092/45092 [02:05<00:00, 360.62it/s]\n"
     ]
    },
    {
     "name": "stdout",
     "output_type": "stream",
     "text": [
      "Epoch:  9 / 25 | Train Loss:  1.676550750179363 | Validation Loss:  6.955198112296088\n"
     ]
    },
    {
     "name": "stderr",
     "output_type": "stream",
     "text": [
      "100%|████████████████████████████████████| 45092/45092 [02:05<00:00, 358.12it/s]\n"
     ]
    },
    {
     "name": "stdout",
     "output_type": "stream",
     "text": [
      "Epoch:  10 / 25 | Train Loss:  1.523414585836003 | Validation Loss:  6.709434565789534\n"
     ]
    },
    {
     "name": "stderr",
     "output_type": "stream",
     "text": [
      "100%|████████████████████████████████████| 45092/45092 [02:06<00:00, 357.21it/s]\n"
     ]
    },
    {
     "name": "stdout",
     "output_type": "stream",
     "text": [
      "Epoch:  11 / 25 | Train Loss:  1.4203624521897515 | Validation Loss:  6.7699063956686665\n"
     ]
    },
    {
     "name": "stderr",
     "output_type": "stream",
     "text": [
      "100%|████████████████████████████████████| 45092/45092 [02:07<00:00, 353.63it/s]\n"
     ]
    },
    {
     "name": "stdout",
     "output_type": "stream",
     "text": [
      "Epoch:  12 / 25 | Train Loss:  1.3421601881235758 | Validation Loss:  6.55273322337585\n"
     ]
    },
    {
     "name": "stderr",
     "output_type": "stream",
     "text": [
      "100%|████████████████████████████████████| 45092/45092 [02:08<00:00, 352.22it/s]\n"
     ]
    },
    {
     "name": "stdout",
     "output_type": "stream",
     "text": [
      "Epoch:  13 / 25 | Train Loss:  1.301723033105644 | Validation Loss:  6.270301181006685\n"
     ]
    },
    {
     "name": "stderr",
     "output_type": "stream",
     "text": [
      "100%|████████████████████████████████████| 45092/45092 [02:06<00:00, 357.16it/s]\n"
     ]
    },
    {
     "name": "stdout",
     "output_type": "stream",
     "text": [
      "Epoch:  14 / 25 | Train Loss:  1.2271372016912707 | Validation Loss:  6.4200604368253025\n"
     ]
    },
    {
     "name": "stderr",
     "output_type": "stream",
     "text": [
      "100%|████████████████████████████████████| 45092/45092 [02:05<00:00, 357.92it/s]\n"
     ]
    },
    {
     "name": "stdout",
     "output_type": "stream",
     "text": [
      "Epoch:  15 / 25 | Train Loss:  1.1750796528739038 | Validation Loss:  6.124262872168539\n"
     ]
    },
    {
     "name": "stderr",
     "output_type": "stream",
     "text": [
      "100%|████████████████████████████████████| 45092/45092 [02:05<00:00, 358.05it/s]\n"
     ]
    },
    {
     "name": "stdout",
     "output_type": "stream",
     "text": [
      "Epoch:  16 / 25 | Train Loss:  1.1242711155472795 | Validation Loss:  6.036259446354217\n"
     ]
    },
    {
     "name": "stderr",
     "output_type": "stream",
     "text": [
      "100%|████████████████████████████████████| 45092/45092 [02:06<00:00, 357.58it/s]\n"
     ]
    },
    {
     "name": "stdout",
     "output_type": "stream",
     "text": [
      "Epoch:  17 / 25 | Train Loss:  1.07919231073529 | Validation Loss:  6.147553633956372\n"
     ]
    },
    {
     "name": "stderr",
     "output_type": "stream",
     "text": [
      "100%|████████████████████████████████████| 45092/45092 [02:06<00:00, 357.24it/s]\n"
     ]
    },
    {
     "name": "stdout",
     "output_type": "stream",
     "text": [
      "Epoch:  18 / 25 | Train Loss:  1.0299526792093645 | Validation Loss:  5.982658799477109\n"
     ]
    },
    {
     "name": "stderr",
     "output_type": "stream",
     "text": [
      "100%|████████████████████████████████████| 45092/45092 [02:07<00:00, 352.85it/s]\n"
     ]
    },
    {
     "name": "stdout",
     "output_type": "stream",
     "text": [
      "Epoch:  19 / 25 | Train Loss:  0.9962313426856724 | Validation Loss:  6.040292465908139\n"
     ]
    },
    {
     "name": "stderr",
     "output_type": "stream",
     "text": [
      "100%|████████████████████████████████████| 45092/45092 [02:04<00:00, 360.75it/s]\n"
     ]
    },
    {
     "name": "stdout",
     "output_type": "stream",
     "text": [
      "Epoch:  20 / 25 | Train Loss:  0.9729073504533456 | Validation Loss:  5.7720463887958\n"
     ]
    },
    {
     "name": "stderr",
     "output_type": "stream",
     "text": [
      "100%|████████████████████████████████████| 45092/45092 [02:04<00:00, 361.37it/s]\n"
     ]
    },
    {
     "name": "stdout",
     "output_type": "stream",
     "text": [
      "Epoch:  21 / 25 | Train Loss:  0.9208181509031013 | Validation Loss:  5.794798294657067\n"
     ]
    },
    {
     "name": "stderr",
     "output_type": "stream",
     "text": [
      "100%|████████████████████████████████████| 45092/45092 [02:05<00:00, 358.33it/s]\n"
     ]
    },
    {
     "name": "stdout",
     "output_type": "stream",
     "text": [
      "Epoch:  22 / 25 | Train Loss:  0.9220223200145343 | Validation Loss:  5.790965902249395\n"
     ]
    },
    {
     "name": "stderr",
     "output_type": "stream",
     "text": [
      "100%|████████████████████████████████████| 45092/45092 [02:05<00:00, 359.65it/s]\n"
     ]
    },
    {
     "name": "stdout",
     "output_type": "stream",
     "text": [
      "Epoch:  23 / 25 | Train Loss:  0.9126422667433544 | Validation Loss:  5.676696342362502\n"
     ]
    },
    {
     "name": "stderr",
     "output_type": "stream",
     "text": [
      "100%|████████████████████████████████████| 45092/45092 [02:05<00:00, 358.99it/s]\n"
     ]
    },
    {
     "name": "stdout",
     "output_type": "stream",
     "text": [
      "Epoch:  24 / 25 | Train Loss:  0.8756656822221944 | Validation Loss:  5.77234325058514\n"
     ]
    },
    {
     "name": "stderr",
     "output_type": "stream",
     "text": [
      "100%|████████████████████████████████████| 45092/45092 [02:05<00:00, 359.35it/s]\n"
     ]
    },
    {
     "name": "stdout",
     "output_type": "stream",
     "text": [
      "Epoch:  25 / 25 | Train Loss:  0.8656372927570858 | Validation Loss:  5.659178002357856\n"
     ]
    }
   ],
   "source": [
    "from tqdm import tqdm\n",
    "loss_track_train = []\n",
    "loss_track_valid = []\n",
    "epochs = 25\n",
    "for epoch in range(epochs):\n",
    "    train_loss = 0\n",
    "    for pair in tqdm(list(zip(en_data, hi_data))):\n",
    "        tensor_pair = sentence2tensor_pair(pair)\n",
    "        train_loss += train(tensor_pair)\n",
    "    train_loss /= len(en_data)\n",
    "    loss_track_train.append(train_loss)\n",
    "    \n",
    "    valid_loss = 0\n",
    "    for pair in list(zip(en_data_test, hi_data_test)):\n",
    "        tensor_pair = sentence2tensor_pair(pair)\n",
    "        _,val_loss = test(tensor_pair)\n",
    "        valid_loss += val_loss\n",
    "    valid_loss /= len(en_data_test)    \n",
    "    loss_track_valid.append(valid_loss)\n",
    "    \n",
    "    print('Epoch: ', epoch+1, '/',epochs, '| Train Loss: ', train_loss, '| Validation Loss: ', valid_loss)"
   ]
  },
  {
   "cell_type": "code",
   "execution_count": 16,
   "id": "3a5ee96b",
   "metadata": {
    "id": "3a5ee96b"
   },
   "outputs": [
    {
     "data": {
      "image/png": "[encoded data removed]",
      "text/plain": [
       "<Figure size 640x480 with 1 Axes>"
      ]
     },
     "metadata": {},
     "output_type": "display_data"
    }
   ],
   "source": [
    "import matplotlib.pyplot as plt\n",
    "\n",
    "plt.figure()\n",
    "plt.plot(loss_track_train)\n",
    "plt.plot(loss_track_valid)\n",
    "plt.show()"
   ]
  },
  {
   "cell_type": "code",
   "execution_count": 17,
   "id": "5b6ad303",
   "metadata": {
    "id": "5b6ad303"
   },
   "outputs": [],
   "source": [
    "def get_translation(text):\n",
    "    tensor_pair = sentence2tensor_pair((text,''))\n",
    "    translation = test(tensor_pair)\n",
    "    return ' '.join([[hi_vocab[idx]] for idx in translation])"
   ]
  },
  {
   "cell_type": "code",
   "execution_count": 20,
   "id": "e03726ed",
   "metadata": {
    "id": "e03726ed"
   },
   "outputs": [
    {
     "name": "stdout",
     "output_type": "stream",
     "text": [
      "Source:  a black box in your car\n",
      "Target:  आपकी कार में ब्लैक बॉक्स\n",
      "Result:  अवरोधित <unk> और अवरोधित करें <eos>\n",
      "\n",
      "----------------------------------------------------------------------------------\n",
      "\n",
      "Source:  the tea party is aghast\n",
      "Target:  चाय पार्टी भौचक्की है ।\n",
      "Result:  कार्रवाई के रूप योग्य टॉगल है\n",
      "\n",
      "----------------------------------------------------------------------------------\n",
      "\n",
      "Source:  a sample has been sent to the laboratory\n",
      "Target:  इसका नमूना प्रयोगशाला भेजा जाएगा ।\n",
      "Result:  ग्नोम में हेतु हेतु <eos>\n",
      "\n",
      "----------------------------------------------------------------------------------\n",
      "\n",
      "Source:  what about the first\n",
      "Target:  पहले वाले के बारे में क्या\n",
      "Result:  किसी के बारे के बारे <eos>\n",
      "\n",
      "----------------------------------------------------------------------------------\n",
      "\n",
      "Source:  everything but the it industry\n",
      "Target:  लेकिन आईटी उद्योग सब कुछ है ।\n",
      "Result:  रद्द पूर्ववत् कार्रवाई की ध्वनि <eos>\n",
      "\n",
      "----------------------------------------------------------------------------------\n",
      "\n"
     ]
    }
   ],
   "source": [
    "cnt = 0\n",
    "\n",
    "for (en,hi) in pairs_test:\n",
    "    l = min(len(en.split()), len(hi.split()))\n",
    "    if l <= MAX_LEN:\n",
    "        pair = (clean_sentence(en), clean_sentence(hi))\n",
    "        cnt += 1\n",
    "        print('Source: ', pair[0])\n",
    "        print('Target: ', pair[1])\n",
    "        tensor_pair = sentence2tensor_pair(pair)\n",
    "        translation,_ = test(tensor_pair)\n",
    "        res = ' '.join([hi_vocab.get_itos()[idx] for idx in translation])\n",
    "        print('Result: ', res)\n",
    "        print('\\n----------------------------------------------------------------------------------\\n')\n",
    "    if cnt == 5:\n",
    "        break"
   ]
  }
 ],
 "metadata": {
  "accelerator": "GPU",
  "colab": {
   "collapsed_sections": [],
   "provenance": []
  },
  "gpuClass": "standard",
  "kernelspec": {
   "display_name": "Python 3 (ipykernel)",
   "language": "python",
   "name": "python3"
  },
  "language_info": {
   "codemirror_mode": {
    "name": "ipython",
    "version": 3
   },
   "file_extension": ".py",
   "mimetype": "text/x-python",
   "name": "python",
   "nbconvert_exporter": "python",
   "pygments_lexer": "ipython3",
   "version": "3.8.10"
  }
 },
 "nbformat": 4,
 "nbformat_minor": 5
}
